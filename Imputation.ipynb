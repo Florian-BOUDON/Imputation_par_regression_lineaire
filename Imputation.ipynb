{
 "cells": [
  {
   "cell_type": "markdown",
   "metadata": {},
   "source": [
    "*******\n",
    "<div style=\"padding:20px;color:black;margin:0;font-size:200%;text-align:center;display:fill;border-radius:5px;background-color:#bdd6f5;overflow:hidden;font-weight:500\">Imputation par régression linéaire multiple</div>\n",
    "\n",
    "*******"
   ]
  },
  {
   "cell_type": "markdown",
   "metadata": {
    "tags": []
   },
   "source": [
    "<div style=\"padding:20px;color:black;margin:0;font-size:150%;display:fill;border-radius:8px;background-color:#d9d9d9;overflow:hidden;font-weight:100\"><strong>Présentation</strong></div>\n",
    "<a class=\"anchor\" id=\"Section_1.1\"></a>"
   ]
  },
  {
   "cell_type": "markdown",
   "metadata": {},
   "source": [
    "Ce projet de Machine Learning vise à créer un modèle d'imputation des données manquantes pour une seule variable en utilisant la méthode de régression linéaire.      \n",
    "Nous remplacerons les données manquantes par les prédictions d'un modèle de régression linéaire entraîné sur les autres variables du jeu de données.   \n",
    "La faisabilité de la régression linéaire sera validée en utilisant plusieurs mesures de performance telles que R2, la normalité des résidus, l'homoscédasticité, l'étude des points levier et la distance de Cook.         \n",
    "Enfin, nous réaliserons une régression backward pour sélectionner les variables les plus pertinentes pour notre modèle d'imputation.\n"
   ]
  },
  {
   "cell_type": "code",
   "execution_count": 1,
   "metadata": {},
   "outputs": [],
   "source": [
    "# Nous importons les librairies nécessaires à l'étude\n",
    "\n",
    "import pandas as pd\n",
    "import numpy as np\n",
    "import seaborn as sns\n",
    "import matplotlib.pyplot as plt\n",
    "\n",
    "import statsmodels.api as sm\n",
    "import statsmodels.formula.api as smf\n",
    "\n",
    "from scipy.stats import t, shapiro\n",
    "from statsmodels.stats.outliers_influence import variance_inflation_factor\n",
    "from functions import *"
   ]
  },
  {
   "cell_type": "code",
   "execution_count": 2,
   "metadata": {},
   "outputs": [
    {
     "data": {
      "text/html": [
       "<div>\n",
       "<style scoped>\n",
       "    .dataframe tbody tr th:only-of-type {\n",
       "        vertical-align: middle;\n",
       "    }\n",
       "\n",
       "    .dataframe tbody tr th {\n",
       "        vertical-align: top;\n",
       "    }\n",
       "\n",
       "    .dataframe thead th {\n",
       "        text-align: right;\n",
       "    }\n",
       "</style>\n",
       "<table border=\"1\" class=\"dataframe\">\n",
       "  <thead>\n",
       "    <tr style=\"text-align: right;\">\n",
       "      <th></th>\n",
       "      <th>cible</th>\n",
       "      <th>diagonal</th>\n",
       "      <th>height_left</th>\n",
       "      <th>height_right</th>\n",
       "      <th>margin_low</th>\n",
       "      <th>margin_up</th>\n",
       "      <th>length</th>\n",
       "    </tr>\n",
       "  </thead>\n",
       "  <tbody>\n",
       "    <tr>\n",
       "      <th>0</th>\n",
       "      <td>1</td>\n",
       "      <td>171.81</td>\n",
       "      <td>104.86</td>\n",
       "      <td>104.95</td>\n",
       "      <td>4.52</td>\n",
       "      <td>2.89</td>\n",
       "      <td>112.83</td>\n",
       "    </tr>\n",
       "    <tr>\n",
       "      <th>1</th>\n",
       "      <td>1</td>\n",
       "      <td>171.46</td>\n",
       "      <td>103.36</td>\n",
       "      <td>103.66</td>\n",
       "      <td>3.77</td>\n",
       "      <td>2.99</td>\n",
       "      <td>113.09</td>\n",
       "    </tr>\n",
       "    <tr>\n",
       "      <th>2</th>\n",
       "      <td>1</td>\n",
       "      <td>172.69</td>\n",
       "      <td>104.48</td>\n",
       "      <td>103.50</td>\n",
       "      <td>4.40</td>\n",
       "      <td>2.94</td>\n",
       "      <td>113.16</td>\n",
       "    </tr>\n",
       "    <tr>\n",
       "      <th>3</th>\n",
       "      <td>1</td>\n",
       "      <td>171.36</td>\n",
       "      <td>103.91</td>\n",
       "      <td>103.94</td>\n",
       "      <td>3.62</td>\n",
       "      <td>3.01</td>\n",
       "      <td>113.51</td>\n",
       "    </tr>\n",
       "    <tr>\n",
       "      <th>4</th>\n",
       "      <td>1</td>\n",
       "      <td>171.73</td>\n",
       "      <td>104.28</td>\n",
       "      <td>103.46</td>\n",
       "      <td>4.04</td>\n",
       "      <td>3.48</td>\n",
       "      <td>112.54</td>\n",
       "    </tr>\n",
       "    <tr>\n",
       "      <th>...</th>\n",
       "      <td>...</td>\n",
       "      <td>...</td>\n",
       "      <td>...</td>\n",
       "      <td>...</td>\n",
       "      <td>...</td>\n",
       "      <td>...</td>\n",
       "      <td>...</td>\n",
       "    </tr>\n",
       "    <tr>\n",
       "      <th>1495</th>\n",
       "      <td>0</td>\n",
       "      <td>171.75</td>\n",
       "      <td>104.38</td>\n",
       "      <td>104.17</td>\n",
       "      <td>4.42</td>\n",
       "      <td>3.09</td>\n",
       "      <td>111.28</td>\n",
       "    </tr>\n",
       "    <tr>\n",
       "      <th>1496</th>\n",
       "      <td>0</td>\n",
       "      <td>172.19</td>\n",
       "      <td>104.63</td>\n",
       "      <td>104.44</td>\n",
       "      <td>5.27</td>\n",
       "      <td>3.37</td>\n",
       "      <td>110.97</td>\n",
       "    </tr>\n",
       "    <tr>\n",
       "      <th>1497</th>\n",
       "      <td>0</td>\n",
       "      <td>171.80</td>\n",
       "      <td>104.01</td>\n",
       "      <td>104.12</td>\n",
       "      <td>5.51</td>\n",
       "      <td>3.36</td>\n",
       "      <td>111.95</td>\n",
       "    </tr>\n",
       "    <tr>\n",
       "      <th>1498</th>\n",
       "      <td>0</td>\n",
       "      <td>172.06</td>\n",
       "      <td>104.28</td>\n",
       "      <td>104.06</td>\n",
       "      <td>5.17</td>\n",
       "      <td>3.46</td>\n",
       "      <td>112.25</td>\n",
       "    </tr>\n",
       "    <tr>\n",
       "      <th>1499</th>\n",
       "      <td>0</td>\n",
       "      <td>171.47</td>\n",
       "      <td>104.15</td>\n",
       "      <td>103.82</td>\n",
       "      <td>4.63</td>\n",
       "      <td>3.37</td>\n",
       "      <td>112.07</td>\n",
       "    </tr>\n",
       "  </tbody>\n",
       "</table>\n",
       "<p>1500 rows × 7 columns</p>\n",
       "</div>"
      ],
      "text/plain": [
       "      cible  diagonal  height_left  height_right  margin_low  margin_up  \\\n",
       "0         1    171.81       104.86        104.95        4.52       2.89   \n",
       "1         1    171.46       103.36        103.66        3.77       2.99   \n",
       "2         1    172.69       104.48        103.50        4.40       2.94   \n",
       "3         1    171.36       103.91        103.94        3.62       3.01   \n",
       "4         1    171.73       104.28        103.46        4.04       3.48   \n",
       "...     ...       ...          ...           ...         ...        ...   \n",
       "1495      0    171.75       104.38        104.17        4.42       3.09   \n",
       "1496      0    172.19       104.63        104.44        5.27       3.37   \n",
       "1497      0    171.80       104.01        104.12        5.51       3.36   \n",
       "1498      0    172.06       104.28        104.06        5.17       3.46   \n",
       "1499      0    171.47       104.15        103.82        4.63       3.37   \n",
       "\n",
       "      length  \n",
       "0     112.83  \n",
       "1     113.09  \n",
       "2     113.16  \n",
       "3     113.51  \n",
       "4     112.54  \n",
       "...      ...  \n",
       "1495  111.28  \n",
       "1496  110.97  \n",
       "1497  111.95  \n",
       "1498  112.25  \n",
       "1499  112.07  \n",
       "\n",
       "[1500 rows x 7 columns]"
      ]
     },
     "execution_count": 2,
     "metadata": {},
     "output_type": "execute_result"
    }
   ],
   "source": [
    "# Importation des données et préparation du DF\n",
    "\n",
    "df=pd.read_csv('billets.csv',sep=';')\n",
    "df=df.rename(columns={'is_genuine':'cible'})\n",
    "df['cible'] = df['cible'].astype(str)\n",
    "df['cible'] = df['cible'].str.lower()\n",
    "df['cible'] = np.where(df['cible']=='true',1,0)\n",
    "df"
   ]
  },
  {
   "cell_type": "code",
   "execution_count": 3,
   "metadata": {},
   "outputs": [],
   "source": [
    "# On réccupère les valeurs nulles\n",
    "miss_value = df[df['margin_low'].isnull()]"
   ]
  },
  {
   "cell_type": "code",
   "execution_count": 4,
   "metadata": {},
   "outputs": [
    {
     "data": {
      "text/plain": [
       "1463"
      ]
     },
     "execution_count": 4,
     "metadata": {},
     "output_type": "execute_result"
    }
   ],
   "source": [
    "# On supprimme les données manquantes\n",
    "df_reg=df.dropna()\n",
    "len(df_reg)"
   ]
  },
  {
   "cell_type": "markdown",
   "metadata": {},
   "source": [
    "### Régression avec toutes les variables  <a class=\"anchor\" id=\"Partie_1\"></a> "
   ]
  },
  {
   "cell_type": "code",
   "execution_count": 5,
   "metadata": {},
   "outputs": [
    {
     "name": "stdout",
     "output_type": "stream",
     "text": [
      "                            OLS Regression Results                            \n",
      "==============================================================================\n",
      "Dep. Variable:             margin_low   R-squared:                       0.617\n",
      "Model:                            OLS   Adj. R-squared:                  0.616\n",
      "Method:                 Least Squares   F-statistic:                     469.1\n",
      "Date:                Wed, 30 Mar 2022   Prob (F-statistic):          2.23e-300\n",
      "Time:                        19:48:57   Log-Likelihood:                -774.20\n",
      "No. Observations:                1463   AIC:                             1560.\n",
      "Df Residuals:                    1457   BIC:                             1592.\n",
      "Df Model:                           5                                         \n",
      "Covariance Type:            nonrobust                                         \n",
      "================================================================================\n",
      "                   coef    std err          t      P>|t|      [0.025      0.975]\n",
      "--------------------------------------------------------------------------------\n",
      "Intercept        0.7806      6.025      0.130      0.897     -11.038      12.599\n",
      "cible           -1.1427      0.049    -23.244      0.000      -1.239      -1.046\n",
      "height_left      0.0273      0.039      0.703      0.482      -0.049       0.103\n",
      "height_right     0.0261      0.038      0.684      0.494      -0.049       0.101\n",
      "margin_up       -0.2134      0.059     -3.634      0.000      -0.329      -0.098\n",
      "length          -0.0036      0.023     -0.156      0.876      -0.050       0.042\n",
      "==============================================================================\n",
      "Omnibus:                       22.226   Durbin-Watson:                   2.038\n",
      "Prob(Omnibus):                  0.000   Jarque-Bera (JB):               38.661\n",
      "Skew:                           0.059   Prob(JB):                     4.03e-09\n",
      "Kurtosis:                       3.788   Cond. No.                     1.04e+05\n",
      "==============================================================================\n",
      "\n",
      "Notes:\n",
      "[1] Standard Errors assume that the covariance matrix of the errors is correctly specified.\n",
      "[2] The condition number is large, 1.04e+05. This might indicate that there are\n",
      "strong multicollinearity or other numerical problems.\n"
     ]
    }
   ],
   "source": [
    "reg_multiple=smf.ols('margin_low ~ cible + height_left + height_right + margin_up + length',data=df_reg).fit()\n",
    "print(reg_multiple.summary())"
   ]
  },
  {
   "cell_type": "markdown",
   "metadata": {},
   "source": [
    ">Il y a un énorme problème de multicolinéarité selon Python    \n",
    "Aucune variable n'est significatif"
   ]
  },
  {
   "cell_type": "code",
   "execution_count": 6,
   "metadata": {},
   "outputs": [
    {
     "data": {
      "text/plain": [
       "[4.658690317916859,\n",
       " 1.1677906470666537,\n",
       " 1.3176616835122352,\n",
       " 1.594910481751497,\n",
       " 3.6104343040574087]"
      ]
     },
     "execution_count": 6,
     "metadata": {},
     "output_type": "execute_result"
    }
   ],
   "source": [
    "# Pour détecter la multicollinéarité\n",
    "variables = reg_multiple.model.exog\n",
    "[variance_inflation_factor(variables, i) for i in np.arange(1,variables.shape[1])]"
   ]
  },
  {
   "cell_type": "markdown",
   "metadata": {},
   "source": [
    "> Dans la litérature statistique, il est donné comme seuil 5 ou 10, à ne pas dépasser.    \n",
    "Ici, il n'y a pas du tout de collinéarité entre les variables. "
   ]
  },
  {
   "cell_type": "markdown",
   "metadata": {},
   "source": [
    "> Le problème vient d'ailleur => surement un problème d'hétéroscédasticité des erreurs"
   ]
  },
  {
   "cell_type": "markdown",
   "metadata": {},
   "source": [
    "### Normalité des résidus      <a class=\"anchor\" id=\"Partie_8\"></a> "
   ]
  },
  {
   "cell_type": "code",
   "execution_count": 7,
   "metadata": {},
   "outputs": [],
   "source": [
    "residu_s_multi = reg_multiple.resid"
   ]
  },
  {
   "cell_type": "code",
   "execution_count": 8,
   "metadata": {},
   "outputs": [
    {
     "data": {
      "image/png": "[encoded data removed]",
      "text/plain": [
       "<Figure size 432x288 with 1 Axes>"
      ]
     },
     "metadata": {
      "needs_background": "light"
     },
     "output_type": "display_data"
    }
   ],
   "source": [
    "plt.hist(residu_s_multi, density=True,bins=30)\n",
    "plt.xlabel('Résidus')\n",
    "plt.title('Histogramme des résidus')\n",
    "plt.show()"
   ]
  },
  {
   "cell_type": "markdown",
   "metadata": {},
   "source": [
    ">Il est difficil de juger de la normalité des résidus avec ce graphique.    \n",
    "Nous pouvons tester la normalité des résidus, avec un test de **Shapiro-Wilk**."
   ]
  },
  {
   "cell_type": "code",
   "execution_count": 9,
   "metadata": {},
   "outputs": [
    {
     "data": {
      "text/plain": [
       "ShapiroResult(statistic=0.9936385750770569, pvalue=6.365746230585501e-06)"
      ]
     },
     "execution_count": 9,
     "metadata": {},
     "output_type": "execute_result"
    }
   ],
   "source": [
    "shapiro(reg_multiple.resid)"
   ]
  },
  {
   "cell_type": "markdown",
   "metadata": {},
   "source": [
    ">Ici, l'hypothèse de normalité est remise en cause  car : p-value = 0.00006 < 0.05.\n"
   ]
  },
  {
   "cell_type": "markdown",
   "metadata": {},
   "source": [
    "### Etude des points leviers"
   ]
  },
  {
   "cell_type": "code",
   "execution_count": 10,
   "metadata": {},
   "outputs": [],
   "source": [
    "alpha=0.05\n",
    "n=df_reg.shape[0]\n",
    "p=4"
   ]
  },
  {
   "cell_type": "markdown",
   "metadata": {},
   "source": [
    ">Nous allons analyser les valeurs atypiques ou abérantes du modèle.   \n",
    ">Le seuil du levier est donné par la formule\n",
    "\n",
    "### $$\\frac {2p}{n}$$    \n"
   ]
  },
  {
   "cell_type": "code",
   "execution_count": 11,
   "metadata": {},
   "outputs": [],
   "source": [
    "analyses=pd.DataFrame({'obs':np.arange(1,n+1)})\n",
    "analyses['levier'] = reg_multiple.get_influence().hat_matrix_diag\n",
    "seuil_levier = 2*p/n"
   ]
  },
  {
   "cell_type": "code",
   "execution_count": 12,
   "metadata": {},
   "outputs": [
    {
     "data": {
      "image/png": "[encoded data removed]",
      "text/plain": [
       "<Figure size 1152x432 with 1 Axes>"
      ]
     },
     "metadata": {
      "needs_background": "light"
     },
     "output_type": "display_data"
    }
   ],
   "source": [
    "plt.figure(figsize=(16,6))\n",
    "plt.bar(analyses['obs'], analyses['levier'])\n",
    "plt.xticks(np.arange(0, 1462, step=10))\n",
    "plt.xlabel('Observation')\n",
    "plt.ylabel('Leviers')\n",
    "plt.plot([0, 1462], [seuil_levier, seuil_levier], color='r')\n",
    "plt.show()"
   ]
  },
  {
   "cell_type": "markdown",
   "metadata": {},
   "source": [
    "### Interprétation\n",
    ">Toutes les bars bleu au dessus de la ligne rouge sont autant de points leviers dans le modèle.     \n",
    "Nous rappelons que les points leviers sont les individus qui modifient significativement le trend de la regression"
   ]
  },
  {
   "cell_type": "markdown",
   "metadata": {},
   "source": [
    "***\n",
    "### Homoscédasticité des résidus   <a class=\"anchor\" id=\"Partie_7\"></a> "
   ]
  },
  {
   "cell_type": "markdown",
   "metadata": {},
   "source": [
    "\n",
    ">Nous pouvons également tester l’homoscédasticité, c'est-à-dire la constance de la variance des résidus :\n",
    "****"
   ]
  },
  {
   "cell_type": "code",
   "execution_count": 13,
   "metadata": {},
   "outputs": [
    {
     "name": "stdout",
     "output_type": "stream",
     "text": [
      "p value test Breusch Pagan: 0.0\n"
     ]
    }
   ],
   "source": [
    "_, pval, __, f_pval = sm.stats.diagnostic.het_breuschpagan(reg_multiple.resid, variables)\n",
    "print('p value test Breusch Pagan:', round(pval,4))"
   ]
  },
  {
   "cell_type": "markdown",
   "metadata": {},
   "source": [
    "#### Interprétation\n",
    ">La p-valeur ici n'est pas inférieure à $5$%,      \n",
    "on rejette l'hypothèse $H0$ selon laquelle les variances sont constantes (l'hypothèse d’homoscédasticité).     \n",
    "\n",
    " > Il y a bien hétéroscédasticité des erreurs"
   ]
  },
  {
   "cell_type": "markdown",
   "metadata": {},
   "source": [
    "### Standardisation des erreurs   <a class=\"anchor\" id=\"Partie_4\"></a> "
   ]
  },
  {
   "cell_type": "code",
   "execution_count": 14,
   "metadata": {},
   "outputs": [],
   "source": [
    "# Nous créons une colonne avec les erreurs normalisées (studentisées)\n",
    "analyses['rstudent'] = reg_multiple.get_influence().resid_studentized_internal\n",
    "\n",
    "# Nous récupérons le seuil à 5%, 1.96 comme les erreurs suivent une loi normale standardisée (0,1)\n",
    "seuil_rstudent = t.ppf(1-alpha/2,n-p-1)"
   ]
  },
  {
   "cell_type": "code",
   "execution_count": 15,
   "metadata": {},
   "outputs": [
    {
     "data": {
      "image/png": "[encoded data removed]",
      "text/plain": [
       "<Figure size 864x432 with 1 Axes>"
      ]
     },
     "metadata": {
      "needs_background": "light"
     },
     "output_type": "display_data"
    }
   ],
   "source": [
    "plt.figure(figsize=(12,6))\n",
    "plt.bar(analyses['obs'], analyses['rstudent'])\n",
    "plt.xticks(np.arange(0, 1462, step=10))\n",
    "plt.xlabel('Observation')\n",
    "plt.ylabel('Résidus studentisés')\n",
    "plt.plot([0, 1462], [seuil_rstudent, seuil_rstudent], color='r')\n",
    "plt.plot([0, 1462], [-seuil_rstudent, -seuil_rstudent], color='r')\n",
    "plt.show()"
   ]
  },
  {
   "cell_type": "markdown",
   "metadata": {},
   "source": [
    "#### Interprétation\n",
    "> Visuellement l'hétéroscédasticité est flagrante    \n",
    "Plus la variable cible augmente et plus la variance des erreurs augmente"
   ]
  },
  {
   "cell_type": "markdown",
   "metadata": {},
   "source": [
    "### Regression Backward"
   ]
  },
  {
   "cell_type": "markdown",
   "metadata": {},
   "source": [
    "> On peut résoudre le problème d'hétéroscédascité en modifiant le modèle et en supprimant certaines variables, les moins significatives.    \n",
    "Nous les retirons du modèle une par une en utilisant une reggression backward."
   ]
  },
  {
   "cell_type": "code",
   "execution_count": 16,
   "metadata": {},
   "outputs": [
    {
     "name": "stdout",
     "output_type": "stream",
     "text": [
      "_______________________________\n",
      "margin_low ~ height_right + cible + length + height_left + margin_up + 1\n",
      "remove length (p-value : 0.876 )\n",
      "\n",
      "_______________________________\n",
      "margin_low ~ height_right + cible + height_left + margin_up + 1\n",
      "remove height_right (p-value : 0.496 )\n",
      "\n",
      "_______________________________\n",
      "margin_low ~ cible + height_left + margin_up + 1\n",
      "remove height_left (p-value : 0.454 )\n",
      "\n",
      "_______________________________\n",
      "margin_low ~ cible + margin_up + 1\n",
      "is the final model !\n",
      "\n",
      "                            OLS Regression Results                            \n",
      "==============================================================================\n",
      "Dep. Variable:             margin_low   R-squared:                       0.617\n",
      "Model:                            OLS   Adj. R-squared:                  0.616\n",
      "Method:                 Least Squares   F-statistic:                     1174.\n",
      "Date:                Wed, 30 Mar 2022   Prob (F-statistic):          1.24e-304\n",
      "Time:                        19:49:06   Log-Likelihood:                -774.73\n",
      "No. Observations:                1463   AIC:                             1555.\n",
      "Df Residuals:                    1460   BIC:                             1571.\n",
      "Df Model:                           2                                         \n",
      "Covariance Type:            nonrobust                                         \n",
      "==============================================================================\n",
      "                 coef    std err          t      P>|t|      [0.025      0.975]\n",
      "------------------------------------------------------------------------------\n",
      "Intercept      5.9263      0.198     30.003      0.000       5.539       6.314\n",
      "cible         -1.1632      0.029    -40.477      0.000      -1.220      -1.107\n",
      "margin_up     -0.2119      0.059     -3.612      0.000      -0.327      -0.097\n",
      "==============================================================================\n",
      "Omnibus:                       22.365   Durbin-Watson:                   2.041\n",
      "Prob(Omnibus):                  0.000   Jarque-Bera (JB):               39.106\n",
      "Skew:                           0.057   Prob(JB):                     3.22e-09\n",
      "Kurtosis:                       3.793   Cond. No.                         65.0\n",
      "==============================================================================\n",
      "\n",
      "Notes:\n",
      "[1] Standard Errors assume that the covariance matrix of the errors is correctly specified.\n"
     ]
    }
   ],
   "source": [
    "columns = ['margin_low','cible','height_left','height_right','margin_up','length']\n",
    "reg_backward = backward_selected(df_reg[columns], 'margin_low')"
   ]
  },
  {
   "cell_type": "code",
   "execution_count": 18,
   "metadata": {},
   "outputs": [],
   "source": [
    "# On reccupère les objets d'une regression linéaire multiple avec statmodel\n",
    "\n",
    "reg_multiple_2=smf.ols('margin_low ~ cible + margin_up ',data=df_reg).fit()"
   ]
  },
  {
   "cell_type": "markdown",
   "metadata": {},
   "source": [
    "### Vérification visuelle de l'homoscédasticité"
   ]
  },
  {
   "cell_type": "code",
   "execution_count": 19,
   "metadata": {},
   "outputs": [],
   "source": [
    "# Nous créons une colonne avec les erreurs normalisées (studentisées)\n",
    "analyses['rstudent'] = reg_multiple_2.get_influence().resid_studentized_internal\n",
    "\n",
    "# Nous récupérons le seuil à 5%, 1.96 comme les erreurs suivent une loi normale standardisée (0,1)\n",
    "seuil_rstudent = t.ppf(1-alpha/2,n-p-1)"
   ]
  },
  {
   "cell_type": "code",
   "execution_count": 20,
   "metadata": {},
   "outputs": [
    {
     "data": {
      "image/png": "[encoded data removed]",
      "text/plain": [
       "<Figure size 864x432 with 1 Axes>"
      ]
     },
     "metadata": {
      "needs_background": "light"
     },
     "output_type": "display_data"
    }
   ],
   "source": [
    "plt.figure(figsize=(12,6))\n",
    "plt.bar(analyses['obs'], analyses['rstudent'])\n",
    "plt.xticks(np.arange(0, 1462, step=10))\n",
    "plt.xlabel('Observation')\n",
    "plt.ylabel('Résidus studentisés')\n",
    "plt.plot([0, 1462], [seuil_rstudent, seuil_rstudent], color='r')\n",
    "plt.plot([0, 1462], [-seuil_rstudent, -seuil_rstudent], color='r')\n",
    "plt.show()"
   ]
  },
  {
   "cell_type": "markdown",
   "metadata": {},
   "source": [
    "### Interprétation \n",
    ">Le modèle est **moyennement** satisfaisant avec       \n",
    "=> $R^2$=0.617      \n",
    "=> **Skewness** proche de 0 => les résidus sont presque centrés   \n",
    "=> **Kurtosis** proche de 3     \n",
    "=> Les 2 variables et la constante sont tout de même significatif\n",
    "\n",
    "> De plus le problème d'homoscédsticidé n'a été reglé.   "
   ]
  },
  {
   "cell_type": "markdown",
   "metadata": {},
   "source": [
    "### Prévision"
   ]
  },
  {
   "cell_type": "code",
   "execution_count": 21,
   "metadata": {
    "scrolled": true
   },
   "outputs": [],
   "source": [
    "# On crée un df contenant uniquement les variables cibles et margin_up des 37 données manquantes\n",
    "\n",
    "miss_value_prev = miss_value.drop(columns=['diagonal','height_left','height_right','margin_low','length'])"
   ]
  },
  {
   "cell_type": "code",
   "execution_count": 23,
   "metadata": {
    "scrolled": true
   },
   "outputs": [
    {
     "data": {
      "text/plain": [
       "72      4.074248\n",
       "99      4.097561\n",
       "151     4.122994\n",
       "197     3.995830\n",
       "241     4.122994\n",
       "251     4.137830\n",
       "284     4.078487\n",
       "334     4.127233\n",
       "410     4.101800\n",
       "413     4.093322\n",
       "445     4.125114\n",
       "481     4.188696\n",
       "505     4.131472\n",
       "611     4.063651\n",
       "654     4.190815\n",
       "675     4.220487\n",
       "710     4.112397\n",
       "739     4.108158\n",
       "742     4.076367\n",
       "780     4.099681\n",
       "798     4.125114\n",
       "844     4.129352\n",
       "845     4.148427\n",
       "871     4.112397\n",
       "895     4.131472\n",
       "919     4.216248\n",
       "945     4.122994\n",
       "946     4.070009\n",
       "981     4.129352\n",
       "1076    5.245925\n",
       "1121    5.254403\n",
       "1176    5.286194\n",
       "1303    5.305269\n",
       "1315    5.205657\n",
       "1347    5.161149\n",
       "1435    5.171746\n",
       "1438    5.239567\n",
       "dtype: float64"
      ]
     },
     "execution_count": 23,
     "metadata": {},
     "output_type": "execute_result"
    }
   ],
   "source": [
    "# Création d'une liste contenant les valeurs calculées de la variable margin_up\n",
    "\n",
    "margin_low_prev = reg_multiple_2.predict(miss_value_prev)\n",
    "margin_low_prev"
   ]
  },
  {
   "cell_type": "code",
   "execution_count": 24,
   "metadata": {},
   "outputs": [],
   "source": [
    "# Remplacement des valeurs nulles par les valeurs prédites\n",
    "\n",
    "df.loc[df[\"margin_low\"].isnull(), 'margin_low'] = margin_low_prev"
   ]
  },
  {
   "cell_type": "code",
   "execution_count": 25,
   "metadata": {},
   "outputs": [
    {
     "data": {
      "text/html": [
       "<div>\n",
       "<style scoped>\n",
       "    .dataframe tbody tr th:only-of-type {\n",
       "        vertical-align: middle;\n",
       "    }\n",
       "\n",
       "    .dataframe tbody tr th {\n",
       "        vertical-align: top;\n",
       "    }\n",
       "\n",
       "    .dataframe thead th {\n",
       "        text-align: right;\n",
       "    }\n",
       "</style>\n",
       "<table border=\"1\" class=\"dataframe\">\n",
       "  <thead>\n",
       "    <tr style=\"text-align: right;\">\n",
       "      <th></th>\n",
       "      <th>cible</th>\n",
       "      <th>diagonal</th>\n",
       "      <th>height_left</th>\n",
       "      <th>height_right</th>\n",
       "      <th>margin_low</th>\n",
       "      <th>margin_up</th>\n",
       "      <th>length</th>\n",
       "    </tr>\n",
       "  </thead>\n",
       "  <tbody>\n",
       "    <tr>\n",
       "      <th>0</th>\n",
       "      <td>1</td>\n",
       "      <td>171.81</td>\n",
       "      <td>104.86</td>\n",
       "      <td>104.95</td>\n",
       "      <td>4.52</td>\n",
       "      <td>2.89</td>\n",
       "      <td>112.83</td>\n",
       "    </tr>\n",
       "    <tr>\n",
       "      <th>1</th>\n",
       "      <td>1</td>\n",
       "      <td>171.46</td>\n",
       "      <td>103.36</td>\n",
       "      <td>103.66</td>\n",
       "      <td>3.77</td>\n",
       "      <td>2.99</td>\n",
       "      <td>113.09</td>\n",
       "    </tr>\n",
       "    <tr>\n",
       "      <th>2</th>\n",
       "      <td>1</td>\n",
       "      <td>172.69</td>\n",
       "      <td>104.48</td>\n",
       "      <td>103.50</td>\n",
       "      <td>4.40</td>\n",
       "      <td>2.94</td>\n",
       "      <td>113.16</td>\n",
       "    </tr>\n",
       "    <tr>\n",
       "      <th>3</th>\n",
       "      <td>1</td>\n",
       "      <td>171.36</td>\n",
       "      <td>103.91</td>\n",
       "      <td>103.94</td>\n",
       "      <td>3.62</td>\n",
       "      <td>3.01</td>\n",
       "      <td>113.51</td>\n",
       "    </tr>\n",
       "    <tr>\n",
       "      <th>4</th>\n",
       "      <td>1</td>\n",
       "      <td>171.73</td>\n",
       "      <td>104.28</td>\n",
       "      <td>103.46</td>\n",
       "      <td>4.04</td>\n",
       "      <td>3.48</td>\n",
       "      <td>112.54</td>\n",
       "    </tr>\n",
       "    <tr>\n",
       "      <th>...</th>\n",
       "      <td>...</td>\n",
       "      <td>...</td>\n",
       "      <td>...</td>\n",
       "      <td>...</td>\n",
       "      <td>...</td>\n",
       "      <td>...</td>\n",
       "      <td>...</td>\n",
       "    </tr>\n",
       "    <tr>\n",
       "      <th>1495</th>\n",
       "      <td>0</td>\n",
       "      <td>171.75</td>\n",
       "      <td>104.38</td>\n",
       "      <td>104.17</td>\n",
       "      <td>4.42</td>\n",
       "      <td>3.09</td>\n",
       "      <td>111.28</td>\n",
       "    </tr>\n",
       "    <tr>\n",
       "      <th>1496</th>\n",
       "      <td>0</td>\n",
       "      <td>172.19</td>\n",
       "      <td>104.63</td>\n",
       "      <td>104.44</td>\n",
       "      <td>5.27</td>\n",
       "      <td>3.37</td>\n",
       "      <td>110.97</td>\n",
       "    </tr>\n",
       "    <tr>\n",
       "      <th>1497</th>\n",
       "      <td>0</td>\n",
       "      <td>171.80</td>\n",
       "      <td>104.01</td>\n",
       "      <td>104.12</td>\n",
       "      <td>5.51</td>\n",
       "      <td>3.36</td>\n",
       "      <td>111.95</td>\n",
       "    </tr>\n",
       "    <tr>\n",
       "      <th>1498</th>\n",
       "      <td>0</td>\n",
       "      <td>172.06</td>\n",
       "      <td>104.28</td>\n",
       "      <td>104.06</td>\n",
       "      <td>5.17</td>\n",
       "      <td>3.46</td>\n",
       "      <td>112.25</td>\n",
       "    </tr>\n",
       "    <tr>\n",
       "      <th>1499</th>\n",
       "      <td>0</td>\n",
       "      <td>171.47</td>\n",
       "      <td>104.15</td>\n",
       "      <td>103.82</td>\n",
       "      <td>4.63</td>\n",
       "      <td>3.37</td>\n",
       "      <td>112.07</td>\n",
       "    </tr>\n",
       "  </tbody>\n",
       "</table>\n",
       "<p>1500 rows × 7 columns</p>\n",
       "</div>"
      ],
      "text/plain": [
       "      cible  diagonal  height_left  height_right  margin_low  margin_up  \\\n",
       "0         1    171.81       104.86        104.95        4.52       2.89   \n",
       "1         1    171.46       103.36        103.66        3.77       2.99   \n",
       "2         1    172.69       104.48        103.50        4.40       2.94   \n",
       "3         1    171.36       103.91        103.94        3.62       3.01   \n",
       "4         1    171.73       104.28        103.46        4.04       3.48   \n",
       "...     ...       ...          ...           ...         ...        ...   \n",
       "1495      0    171.75       104.38        104.17        4.42       3.09   \n",
       "1496      0    172.19       104.63        104.44        5.27       3.37   \n",
       "1497      0    171.80       104.01        104.12        5.51       3.36   \n",
       "1498      0    172.06       104.28        104.06        5.17       3.46   \n",
       "1499      0    171.47       104.15        103.82        4.63       3.37   \n",
       "\n",
       "      length  \n",
       "0     112.83  \n",
       "1     113.09  \n",
       "2     113.16  \n",
       "3     113.51  \n",
       "4     112.54  \n",
       "...      ...  \n",
       "1495  111.28  \n",
       "1496  110.97  \n",
       "1497  111.95  \n",
       "1498  112.25  \n",
       "1499  112.07  \n",
       "\n",
       "[1500 rows x 7 columns]"
      ]
     },
     "execution_count": 25,
     "metadata": {},
     "output_type": "execute_result"
    }
   ],
   "source": [
    "df"
   ]
  }
 ],
 "metadata": {
  "kernelspec": {
   "display_name": "Python 3 (ipykernel)",
   "language": "python",
   "name": "python3"
  },
  "language_info": {
   "codemirror_mode": {
    "name": "ipython",
    "version": 3
   },
   "file_extension": ".py",
   "mimetype": "text/x-python",
   "name": "python",
   "nbconvert_exporter": "python",
   "pygments_lexer": "ipython3",
   "version": "3.10.9"
  }
 },
 "nbformat": 4,
 "nbformat_minor": 4
}
